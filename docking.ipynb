{
  "nbformat": 4,
  "nbformat_minor": 0,
  "metadata": {
    "colab": {
      "name": "docking.ipynb",
      "provenance": [],
      "collapsed_sections": [],
      "toc_visible": true
    },
    "kernelspec": {
      "name": "python3",
      "display_name": "Python 3"
    }
  },
  "cells": [
    {
      "cell_type": "markdown",
      "metadata": {
        "id": "RL7d9bUeCRiy"
      },
      "source": [
        "## Step 1: Install autodock vina"
      ]
    },
    {
      "cell_type": "code",
      "metadata": {
        "id": "NzCvBjgcvKvm",
        "colab": {
          "base_uri": "https://localhost:8080/"
        },
        "outputId": "58f0d0e3-e9fe-4f68-dbb4-fdae39554048"
      },
      "source": [
        "!wget http://vina.scripps.edu/download/autodock_vina_1_1_2_linux_x86.tgz"
      ],
      "execution_count": 1,
      "outputs": [
        {
          "output_type": "stream",
          "text": [
            "--2021-01-20 01:54:01--  http://vina.scripps.edu/download/autodock_vina_1_1_2_linux_x86.tgz\n",
            "Resolving vina.scripps.edu (vina.scripps.edu)... 137.131.108.109\n",
            "Connecting to vina.scripps.edu (vina.scripps.edu)|137.131.108.109|:80... connected.\n",
            "HTTP request sent, awaiting response... 200 OK\n",
            "Length: 1238242 (1.2M) [application/x-gzip]\n",
            "Saving to: ‘autodock_vina_1_1_2_linux_x86.tgz’\n",
            "\n",
            "autodock_vina_1_1_2 100%[===================>]   1.18M   652KB/s    in 1.9s    \n",
            "\n",
            "2021-01-20 01:54:03 (652 KB/s) - ‘autodock_vina_1_1_2_linux_x86.tgz’ saved [1238242/1238242]\n",
            "\n"
          ],
          "name": "stdout"
        }
      ]
    },
    {
      "cell_type": "markdown",
      "metadata": {
        "id": "5swEgJpM2z4E"
      },
      "source": [
        "Download vina from web side vina"
      ]
    },
    {
      "cell_type": "code",
      "metadata": {
        "colab": {
          "base_uri": "https://localhost:8080/"
        },
        "id": "5VxTpg0j2Zr1",
        "outputId": "880a3d30-adca-4b81-dd79-387923c2a295"
      },
      "source": [
        "!tar xzvf autodock_vina_1_1_2_linux_x86.tgz"
      ],
      "execution_count": 2,
      "outputs": [
        {
          "output_type": "stream",
          "text": [
            "autodock_vina_1_1_2_linux_x86/\n",
            "autodock_vina_1_1_2_linux_x86/LICENSE\n",
            "autodock_vina_1_1_2_linux_x86/bin/\n",
            "autodock_vina_1_1_2_linux_x86/bin/vina\n",
            "autodock_vina_1_1_2_linux_x86/bin/vina_split\n"
          ],
          "name": "stdout"
        }
      ]
    },
    {
      "cell_type": "markdown",
      "metadata": {
        "id": "6XRLndqH3AMV"
      },
      "source": [
        "Uncompass file download"
      ]
    },
    {
      "cell_type": "markdown",
      "metadata": {
        "id": "m5la1zPe2-UD"
      },
      "source": [
        ""
      ]
    },
    {
      "cell_type": "code",
      "metadata": {
        "id": "AYPDnpRO2Z1m"
      },
      "source": [
        "alias vina /content/autodock_vina_1_1_2_linux_x86/bin/vina"
      ],
      "execution_count": 3,
      "outputs": []
    },
    {
      "cell_type": "markdown",
      "metadata": {
        "id": "xHsWf6ro4JSn"
      },
      "source": [
        "we can make an alias to the vina program for more trouble-free use. This is useful if we want to change directory and call vina from there. So we can use %vina or !vina to use this file."
      ]
    },
    {
      "cell_type": "code",
      "metadata": {
        "colab": {
          "base_uri": "https://localhost:8080/"
        },
        "id": "Zh01-NXj2Z8f",
        "outputId": "741358b6-1e42-43f9-8801-709eb771692a"
      },
      "source": [
        "%vina --help"
      ],
      "execution_count": 4,
      "outputs": [
        {
          "output_type": "stream",
          "text": [
            "\n",
            "Input:\n",
            "  --receptor arg        rigid part of the receptor (PDBQT)\n",
            "  --flex arg            flexible side chains, if any (PDBQT)\n",
            "  --ligand arg          ligand (PDBQT)\n",
            "\n",
            "Search space (required):\n",
            "  --center_x arg        X coordinate of the center\n",
            "  --center_y arg        Y coordinate of the center\n",
            "  --center_z arg        Z coordinate of the center\n",
            "  --size_x arg          size in the X dimension (Angstroms)\n",
            "  --size_y arg          size in the Y dimension (Angstroms)\n",
            "  --size_z arg          size in the Z dimension (Angstroms)\n",
            "\n",
            "Output (optional):\n",
            "  --out arg             output models (PDBQT), the default is chosen based on \n",
            "                        the ligand file name\n",
            "  --log arg             optionally, write log file\n",
            "\n",
            "Misc (optional):\n",
            "  --cpu arg                 the number of CPUs to use (the default is to try to\n",
            "                            detect the number of CPUs or, failing that, use 1)\n",
            "  --seed arg                explicit random seed\n",
            "  --exhaustiveness arg (=8) exhaustiveness of the global search (roughly \n",
            "                            proportional to time): 1+\n",
            "  --num_modes arg (=9)      maximum number of binding modes to generate\n",
            "  --energy_range arg (=3)   maximum energy difference between the best binding \n",
            "                            mode and the worst one displayed (kcal/mol)\n",
            "\n",
            "Configuration file (optional):\n",
            "  --config arg          the above options can be put here\n",
            "\n",
            "Information (optional):\n",
            "  --help                display usage summary\n",
            "  --help_advanced       display usage summary with advanced options\n",
            "  --version             display program version\n",
            "\n"
          ],
          "name": "stdout"
        }
      ]
    },
    {
      "cell_type": "code",
      "metadata": {
        "colab": {
          "base_uri": "https://localhost:8080/"
        },
        "id": "3TwUHxFBOrXR",
        "outputId": "3ef826fc-7e64-4944-af39-51b1427163e0"
      },
      "source": [
        "!wget http://vina.scripps.edu/vina_tutorial.zip"
      ],
      "execution_count": 5,
      "outputs": [
        {
          "output_type": "stream",
          "text": [
            "--2021-01-20 01:54:21--  http://vina.scripps.edu/vina_tutorial.zip\n",
            "Resolving vina.scripps.edu (vina.scripps.edu)... 137.131.108.109\n",
            "Connecting to vina.scripps.edu (vina.scripps.edu)|137.131.108.109|:80... connected.\n",
            "HTTP request sent, awaiting response... 200 OK\n",
            "Length: 48373 (47K) [application/zip]\n",
            "Saving to: ‘vina_tutorial.zip’\n",
            "\n",
            "vina_tutorial.zip   100%[===================>]  47.24K   134KB/s    in 0.4s    \n",
            "\n",
            "2021-01-20 01:54:21 (134 KB/s) - ‘vina_tutorial.zip’ saved [48373/48373]\n",
            "\n"
          ],
          "name": "stdout"
        }
      ]
    },
    {
      "cell_type": "markdown",
      "metadata": {
        "id": "0WRA4oUDOvc1"
      },
      "source": [
        "Download vina_tuitorial \r\n"
      ]
    },
    {
      "cell_type": "code",
      "metadata": {
        "colab": {
          "base_uri": "https://localhost:8080/"
        },
        "id": "-G64OKF9OrUZ",
        "outputId": "bd771776-78c2-4131-8557-297b232b0c1c"
      },
      "source": [
        "!unzip vina_tutorial.zip "
      ],
      "execution_count": 6,
      "outputs": [
        {
          "output_type": "stream",
          "text": [
            "Archive:  vina_tutorial.zip\n",
            "   creating: vina_tutorial/\n",
            "  inflating: vina_tutorial/ligand.pdb  \n",
            "  inflating: vina_tutorial/ligand_experiment.pdb  \n",
            "  inflating: vina_tutorial/protein.pdb  \n"
          ],
          "name": "stdout"
        }
      ]
    },
    {
      "cell_type": "markdown",
      "metadata": {
        "id": "JQnqRKV1O4_n"
      },
      "source": [
        "Uncompass "
      ]
    },
    {
      "cell_type": "markdown",
      "metadata": {
        "id": "JUhfaITNPZzC"
      },
      "source": [
        "## Step 2: Check working space"
      ]
    },
    {
      "cell_type": "code",
      "metadata": {
        "colab": {
          "base_uri": "https://localhost:8080/",
          "height": 35
        },
        "id": "6JvoOzYyOrRP",
        "outputId": "e398ce11-0dad-4860-9d66-cae3fa5381dd"
      },
      "source": [
        "%pwd"
      ],
      "execution_count": null,
      "outputs": [
        {
          "output_type": "execute_result",
          "data": {
            "application/vnd.google.colaboratory.intrinsic+json": {
              "type": "string"
            },
            "text/plain": [
              "'/content'"
            ]
          },
          "metadata": {
            "tags": []
          },
          "execution_count": 8
        }
      ]
    },
    {
      "cell_type": "markdown",
      "metadata": {
        "id": "VaxwjIgQPLyI"
      },
      "source": [
        ""
      ]
    },
    {
      "cell_type": "code",
      "metadata": {
        "colab": {
          "base_uri": "https://localhost:8080/"
        },
        "id": "ko9IunQCOrOe",
        "outputId": "44083524-b639-42cf-d3d4-f7f9f06ea35e"
      },
      "source": [
        "%cd /content/vina_tutorial"
      ],
      "execution_count": null,
      "outputs": [
        {
          "output_type": "stream",
          "text": [
            "/content/vina_tutorial\n"
          ],
          "name": "stdout"
        }
      ]
    },
    {
      "cell_type": "code",
      "metadata": {
        "colab": {
          "base_uri": "https://localhost:8080/"
        },
        "id": "DX9UDKcXOrCx",
        "outputId": "76c9199a-41e7-4e05-f8eb-c609e887847a"
      },
      "source": [
        "ls"
      ],
      "execution_count": null,
      "outputs": [
        {
          "output_type": "stream",
          "text": [
            "ligand_experiment.pdb  ligand.pdb  protein.pdb\n"
          ],
          "name": "stdout"
        }
      ]
    },
    {
      "cell_type": "markdown",
      "metadata": {
        "id": "RnWhKhwbCFxr"
      },
      "source": [
        ""
      ]
    },
    {
      "cell_type": "markdown",
      "metadata": {
        "id": "Jxw2RjsgQXGQ"
      },
      "source": [
        "## Step 3: Mount with google drive to prepare ligands and target"
      ]
    },
    {
      "cell_type": "code",
      "metadata": {
        "colab": {
          "base_uri": "https://localhost:8080/"
        },
        "id": "KJL_CbOddmJL",
        "outputId": "9330d9d5-c4ad-4d45-ec24-b0f8897af839"
      },
      "source": [
        "from google.colab import drive\r\n",
        "drive.mount('/content/drive')"
      ],
      "execution_count": 7,
      "outputs": [
        {
          "output_type": "stream",
          "text": [
            "Drive already mounted at /content/drive; to attempt to forcibly remount, call drive.mount(\"/content/drive\", force_remount=True).\n"
          ],
          "name": "stdout"
        }
      ]
    },
    {
      "cell_type": "code",
      "metadata": {
        "id": "pglucdnuQqA8"
      },
      "source": [
        ""
      ],
      "execution_count": null,
      "outputs": []
    },
    {
      "cell_type": "code",
      "metadata": {
        "id": "QWL--ntpQp-a"
      },
      "source": [
        ""
      ],
      "execution_count": null,
      "outputs": []
    },
    {
      "cell_type": "code",
      "metadata": {
        "id": "MOozw16EQp7m"
      },
      "source": [
        ""
      ],
      "execution_count": null,
      "outputs": []
    },
    {
      "cell_type": "markdown",
      "metadata": {
        "id": "lWCSjCgAbxfc"
      },
      "source": [
        "## 3.1 Download openbabel to convert files"
      ]
    },
    {
      "cell_type": "markdown",
      "metadata": {
        "id": "ulBkc40ab57-"
      },
      "source": [
        "Download openbabel"
      ]
    },
    {
      "cell_type": "code",
      "metadata": {
        "colab": {
          "base_uri": "https://localhost:8080/"
        },
        "id": "CVuL8McZQp47",
        "outputId": "e4e47637-0758-43af-c6ba-5de61cef619b"
      },
      "source": [
        "!apt-get -qq install -y openbabel\r\n"
      ],
      "execution_count": 8,
      "outputs": [
        {
          "output_type": "stream",
          "text": [
            "Selecting previously unselected package libopenbabel4v5.\n",
            "(Reading database ... 146364 files and directories currently installed.)\n",
            "Preparing to unpack .../libopenbabel4v5_2.3.2+dfsg-3build1_amd64.deb ...\n",
            "Unpacking libopenbabel4v5 (2.3.2+dfsg-3build1) ...\n",
            "Selecting previously unselected package openbabel.\n",
            "Preparing to unpack .../openbabel_2.3.2+dfsg-3build1_amd64.deb ...\n",
            "Unpacking openbabel (2.3.2+dfsg-3build1) ...\n",
            "Setting up libopenbabel4v5 (2.3.2+dfsg-3build1) ...\n",
            "Setting up openbabel (2.3.2+dfsg-3build1) ...\n",
            "Processing triggers for man-db (2.8.3-2ubuntu0.1) ...\n",
            "Processing triggers for libc-bin (2.27-3ubuntu1.3) ...\n",
            "/sbin/ldconfig.real: /usr/local/lib/python3.6/dist-packages/ideep4py/lib/libmkldnn.so.0 is not a symbolic link\n",
            "\n"
          ],
          "name": "stdout"
        }
      ]
    },
    {
      "cell_type": "markdown",
      "metadata": {
        "id": "3YgcFAXZcBks"
      },
      "source": [
        "Direct to working folder"
      ]
    },
    {
      "cell_type": "code",
      "metadata": {
        "colab": {
          "base_uri": "https://localhost:8080/"
        },
        "id": "5vZScg-XQpx5",
        "outputId": "be7b65d4-37b2-448b-e2ba-331845457329"
      },
      "source": [
        "%cd /content/drive/MyDrive/Docking/ligand 2"
      ],
      "execution_count": null,
      "outputs": [
        {
          "output_type": "stream",
          "text": [
            "/content/drive/MyDrive/Docking/ligand 2\n"
          ],
          "name": "stdout"
        }
      ]
    },
    {
      "cell_type": "markdown",
      "metadata": {
        "id": "PcMg2w4zcKRj"
      },
      "source": [
        "Convert to suitable format ( - i + input format --> - o output format)"
      ]
    },
    {
      "cell_type": "code",
      "metadata": {
        "id": "UVgNKNgKgyHC",
        "colab": {
          "base_uri": "https://localhost:8080/"
        },
        "outputId": "e223eadc-d850-4593-cf41-98e3feb522cb"
      },
      "source": [
        "!babel -isdf 'library.sdf' -opdbqt 'library.pdbqt'"
      ],
      "execution_count": null,
      "outputs": [
        {
          "output_type": "stream",
          "text": [
            "178 molecules converted\n",
            "86113 audit log messages \n"
          ],
          "name": "stdout"
        }
      ]
    },
    {
      "cell_type": "markdown",
      "metadata": {
        "id": "owTMRmm5czfC"
      },
      "source": [
        "## 3.1 Move target and ligand to vina_tutorial folder"
      ]
    },
    {
      "cell_type": "markdown",
      "metadata": {
        "id": "vUqM2wU6ecTM"
      },
      "source": [
        "!cp + space + link file + space + link folder"
      ]
    },
    {
      "cell_type": "code",
      "metadata": {
        "id": "_DYzr-irfk_S"
      },
      "source": [
        "!cp /content/drive/MyDrive/Docking/target/bovineXOR.pdbqt /content/vina_tutorial"
      ],
      "execution_count": 9,
      "outputs": []
    },
    {
      "cell_type": "code",
      "metadata": {
        "id": "QmoEEP1weX0_"
      },
      "source": [
        "!cp /content/drive/MyDrive/Docking/ligand/2.pdbqt  /content/vina_tutorial"
      ],
      "execution_count": 10,
      "outputs": []
    },
    {
      "cell_type": "code",
      "metadata": {
        "id": "Zo6Jm8cA5TMI"
      },
      "source": [
        "!mv /content/drive/MyDrive/Docking/ligand /content/vina_tutorial"
      ],
      "execution_count": 15,
      "outputs": []
    },
    {
      "cell_type": "markdown",
      "metadata": {
        "id": "r5ICFC8Gfoeg"
      },
      "source": [
        "## Step 4: Docking "
      ]
    },
    {
      "cell_type": "code",
      "metadata": {
        "colab": {
          "base_uri": "https://localhost:8080/"
        },
        "id": "n4We9WyUfA5I",
        "outputId": "7575a581-4aa9-4cf3-eb8a-80e5705acfae"
      },
      "source": [
        "%cd /content/vina_tutorial"
      ],
      "execution_count": 11,
      "outputs": [
        {
          "output_type": "stream",
          "text": [
            "/content/vina_tutorial\n"
          ],
          "name": "stdout"
        }
      ]
    },
    {
      "cell_type": "code",
      "metadata": {
        "colab": {
          "base_uri": "https://localhost:8080/"
        },
        "id": "9eh63pT3f4FM",
        "outputId": "15429987-be97-4282-b483-7b0c48007fb2"
      },
      "source": [
        "ls"
      ],
      "execution_count": null,
      "outputs": [
        {
          "output_type": "stream",
          "text": [
            "bovineXOR.pdbqt  \u001b[0m\u001b[01;34mligand\u001b[0m/  ligand_experiment.pdb  ligand.pdb  protein.pdb\n"
          ],
          "name": "stdout"
        }
      ]
    },
    {
      "cell_type": "code",
      "metadata": {
        "id": "nZpZ38rpeXx6"
      },
      "source": [
        "%%bash\r\n",
        "cat > conf.txt <<EOF\r\n",
        "# receptor = protein.pdbqt\r\n",
        "# ligand = ligand.pdbqt\r\n",
        "\r\n",
        "receptor = bovineXOR.pdbqt\r\n",
        "ligand = 2.pdbqt\r\n",
        "\r\n",
        "out = all.pdbqt\r\n",
        "\r\n",
        "center_x = 40\r\n",
        "center_y = 22\r\n",
        "center_z = 16\r\n",
        "\r\n",
        "size_x = 30\r\n",
        "size_y = 30\r\n",
        "size_z = 30\r\n",
        "\r\n",
        "\r\n",
        "EOF\r\n"
      ],
      "execution_count": 12,
      "outputs": []
    },
    {
      "cell_type": "code",
      "metadata": {
        "colab": {
          "base_uri": "https://localhost:8080/",
          "height": 129
        },
        "id": "7vvCNHnlhdDD",
        "outputId": "a2952a99-d26d-480a-b2c3-18cf5d3cc9f9"
      },
      "source": [
        "%vina --config conf.txt \r\n",
        "--ligand \r\n",
        "%cd /content/vina_tutorial/ligand\r\n",
        "for f in *.pdbqt; do\r\n",
        "    b=`basename $f .pdbqt`\r\n",
        "    echo Processing ligand $b\r\n",
        "    mkdir -p $b\r\n",
        "--out ${b}/out.pdbqt --log ${b}/log.txt\r\n"
      ],
      "execution_count": null,
      "outputs": [
        {
          "output_type": "error",
          "ename": "SyntaxError",
          "evalue": "ignored",
          "traceback": [
            "\u001b[0;36m  File \u001b[0;32m\"<ipython-input-25-5a9d4994d29d>\"\u001b[0;36m, line \u001b[0;32m4\u001b[0m\n\u001b[0;31m    for f in *.pdbqt; do\u001b[0m\n\u001b[0m             ^\u001b[0m\n\u001b[0;31mSyntaxError\u001b[0m\u001b[0;31m:\u001b[0m invalid syntax\n"
          ]
        }
      ]
    },
    {
      "cell_type": "code",
      "metadata": {
        "colab": {
          "base_uri": "https://localhost:8080/"
        },
        "id": "VRpVaERmeXvA",
        "outputId": "0d239d6a-578b-4bab-8c9b-0c498a1614c5"
      },
      "source": [
        "%vina --config conf.txt --log log.txt"
      ],
      "execution_count": 14,
      "outputs": [
        {
          "output_type": "stream",
          "text": [
            "#################################################################\n",
            "# If you used AutoDock Vina in your work, please cite:          #\n",
            "#                                                               #\n",
            "# O. Trott, A. J. Olson,                                        #\n",
            "# AutoDock Vina: improving the speed and accuracy of docking    #\n",
            "# with a new scoring function, efficient optimization and       #\n",
            "# multithreading, Journal of Computational Chemistry 31 (2010)  #\n",
            "# 455-461                                                       #\n",
            "#                                                               #\n",
            "# DOI 10.1002/jcc.21334                                         #\n",
            "#                                                               #\n",
            "# Please see http://vina.scripps.edu for more information.      #\n",
            "#################################################################\n",
            "\n",
            "Detected 2 CPUs\n",
            "Reading input ... done.\n",
            "Setting up the scoring function ... done.\n",
            "Analyzing the binding site ... done.\n",
            "Using random seed: -1373444508\n",
            "Performing search ... \n",
            "0%   10   20   30   40   50   60   70   80   90   100%\n",
            "|----|----|----|----|----|----|----|----|----|----|\n",
            "*^C\n"
          ],
          "name": "stdout"
        }
      ]
    },
    {
      "cell_type": "code",
      "metadata": {
        "id": "oyCFiS2meXpr"
      },
      "source": [
        ""
      ],
      "execution_count": null,
      "outputs": []
    },
    {
      "cell_type": "code",
      "metadata": {
        "id": "Ehb7HdHFeXm4"
      },
      "source": [
        ""
      ],
      "execution_count": null,
      "outputs": []
    },
    {
      "cell_type": "code",
      "metadata": {
        "id": "aW8CeTeweXbU"
      },
      "source": [
        ""
      ],
      "execution_count": null,
      "outputs": []
    },
    {
      "cell_type": "code",
      "metadata": {
        "colab": {
          "base_uri": "https://localhost:8080/"
        },
        "id": "yi0ys-jNMRIh",
        "outputId": "2c0bee9a-f76e-444f-e9d1-66ed5cf63b11"
      },
      "source": [
        "%vina --receptor protein.pdbqt --ligand ligand.pdbqt --config conf.txt --log log.txt"
      ],
      "execution_count": null,
      "outputs": [
        {
          "output_type": "stream",
          "text": [
            "Configuration file parse error: unknown option <!DOCTYPE html><html><head><meta name\n",
            "\n",
            "Correct usage:\n",
            "\n",
            "Input:\n",
            "  --receptor arg        rigid part of the receptor (PDBQT)\n",
            "  --flex arg            flexible side chains, if any (PDBQT)\n",
            "  --ligand arg          ligand (PDBQT)\n",
            "\n",
            "Search space (required):\n",
            "  --center_x arg        X coordinate of the center\n",
            "  --center_y arg        Y coordinate of the center\n",
            "  --center_z arg        Z coordinate of the center\n",
            "  --size_x arg          size in the X dimension (Angstroms)\n",
            "  --size_y arg          size in the Y dimension (Angstroms)\n",
            "  --size_z arg          size in the Z dimension (Angstroms)\n",
            "\n",
            "Output (optional):\n",
            "  --out arg             output models (PDBQT), the default is chosen based on \n",
            "                        the ligand file name\n",
            "  --log arg             optionally, write log file\n",
            "\n",
            "Misc (optional):\n",
            "  --cpu arg                 the number of CPUs to use (the default is to try to\n",
            "                            detect the number of CPUs or, failing that, use 1)\n",
            "  --seed arg                explicit random seed\n",
            "  --exhaustiveness arg (=8) exhaustiveness of the global search (roughly \n",
            "                            proportional to time): 1+\n",
            "  --num_modes arg (=9)      maximum number of binding modes to generate\n",
            "  --energy_range arg (=3)   maximum energy difference between the best binding \n",
            "                            mode and the worst one displayed (kcal/mol)\n",
            "\n",
            "Configuration file (optional):\n",
            "  --config arg          the above options can be put here\n",
            "\n",
            "Information (optional):\n",
            "  --help                display usage summary\n",
            "  --help_advanced       display usage summary with advanced options\n",
            "  --version             display program version\n",
            "\n"
          ],
          "name": "stdout"
        }
      ]
    },
    {
      "cell_type": "code",
      "metadata": {
        "id": "q5wJ2EMUMRF4"
      },
      "source": [
        ""
      ],
      "execution_count": null,
      "outputs": []
    },
    {
      "cell_type": "code",
      "metadata": {
        "id": "kcvMfGtaMQ7T"
      },
      "source": [
        ""
      ],
      "execution_count": null,
      "outputs": []
    },
    {
      "cell_type": "code",
      "metadata": {
        "id": "yhCVNamrMQt3"
      },
      "source": [
        ""
      ],
      "execution_count": null,
      "outputs": []
    },
    {
      "cell_type": "code",
      "metadata": {
        "id": "TlMQOkZlEnVg"
      },
      "source": [
        ""
      ],
      "execution_count": null,
      "outputs": []
    },
    {
      "cell_type": "markdown",
      "metadata": {
        "id": "_Gas_PfYCLbD"
      },
      "source": [
        "## Step 2: Install Pymol for PDB manipulations"
      ]
    },
    {
      "cell_type": "code",
      "metadata": {
        "colab": {
          "base_uri": "https://localhost:8080/"
        },
        "id": "hN4ji92j2aCr",
        "outputId": "a7ac2c0c-70f2-4b0a-de52-e9a31759fad3"
      },
      "source": [
        "! apt-get install pymol "
      ],
      "execution_count": null,
      "outputs": [
        {
          "output_type": "stream",
          "text": [
            "Reading package lists... Done\n",
            "Building dependency tree       \n",
            "Reading state information... Done\n",
            "The following additional packages will be installed:\n",
            "  apbs libglew2.0 libmaloc1 pymol-data python-opengl python-pmw\n",
            "Suggested packages:\n",
            "  glew-utils libgle3 python-pmw-doc\n",
            "The following NEW packages will be installed:\n",
            "  apbs libglew2.0 libmaloc1 pymol pymol-data python-opengl python-pmw\n",
            "0 upgraded, 7 newly installed, 0 to remove and 16 not upgraded.\n",
            "Need to get 5,912 kB of archives.\n",
            "After this operation, 26.3 MB of additional disk space will be used.\n",
            "Get:1 http://archive.ubuntu.com/ubuntu bionic/universe amd64 libmaloc1 amd64 0.2-3.1 [48.3 kB]\n",
            "Get:2 http://archive.ubuntu.com/ubuntu bionic/universe amd64 apbs amd64 1.4-1build1 [218 kB]\n",
            "Get:3 http://archive.ubuntu.com/ubuntu bionic/universe amd64 libglew2.0 amd64 2.0.0-5 [140 kB]\n",
            "Get:4 http://archive.ubuntu.com/ubuntu bionic/universe amd64 python-pmw all 1.3.2-6build1 [79.5 kB]\n",
            "Get:5 http://archive.ubuntu.com/ubuntu bionic/universe amd64 python-opengl all 3.1.0+dfsg-1 [496 kB]\n",
            "Get:6 http://archive.ubuntu.com/ubuntu bionic/universe amd64 pymol-data all 1.8.4.0+dfsg-1build1 [1,193 kB]\n",
            "Get:7 http://archive.ubuntu.com/ubuntu bionic/universe amd64 pymol amd64 1.8.4.0+dfsg-1build1 [3,737 kB]\n",
            "Fetched 5,912 kB in 1s (4,302 kB/s)\n",
            "Selecting previously unselected package libmaloc1.\n",
            "(Reading database ... 145483 files and directories currently installed.)\n",
            "Preparing to unpack .../0-libmaloc1_0.2-3.1_amd64.deb ...\n",
            "Unpacking libmaloc1 (0.2-3.1) ...\n",
            "Selecting previously unselected package apbs.\n",
            "Preparing to unpack .../1-apbs_1.4-1build1_amd64.deb ...\n",
            "Unpacking apbs (1.4-1build1) ...\n",
            "Selecting previously unselected package libglew2.0:amd64.\n",
            "Preparing to unpack .../2-libglew2.0_2.0.0-5_amd64.deb ...\n",
            "Unpacking libglew2.0:amd64 (2.0.0-5) ...\n",
            "Selecting previously unselected package python-pmw.\n",
            "Preparing to unpack .../3-python-pmw_1.3.2-6build1_all.deb ...\n",
            "Unpacking python-pmw (1.3.2-6build1) ...\n",
            "Selecting previously unselected package python-opengl.\n",
            "Preparing to unpack .../4-python-opengl_3.1.0+dfsg-1_all.deb ...\n",
            "Unpacking python-opengl (3.1.0+dfsg-1) ...\n",
            "Selecting previously unselected package pymol-data.\n",
            "Preparing to unpack .../5-pymol-data_1.8.4.0+dfsg-1build1_all.deb ...\n",
            "Unpacking pymol-data (1.8.4.0+dfsg-1build1) ...\n",
            "Selecting previously unselected package pymol.\n",
            "Preparing to unpack .../6-pymol_1.8.4.0+dfsg-1build1_amd64.deb ...\n",
            "Unpacking pymol (1.8.4.0+dfsg-1build1) ...\n",
            "Setting up python-opengl (3.1.0+dfsg-1) ...\n",
            "Setting up pymol-data (1.8.4.0+dfsg-1build1) ...\n",
            "Setting up python-pmw (1.3.2-6build1) ...\n",
            "Setting up libmaloc1 (0.2-3.1) ...\n",
            "Setting up libglew2.0:amd64 (2.0.0-5) ...\n",
            "Setting up apbs (1.4-1build1) ...\n",
            "Setting up pymol (1.8.4.0+dfsg-1build1) ...\n",
            "Processing triggers for mime-support (3.60ubuntu1) ...\n",
            "Processing triggers for libc-bin (2.27-3ubuntu1.2) ...\n",
            "/sbin/ldconfig.real: /usr/local/lib/python3.6/dist-packages/ideep4py/lib/libmkldnn.so.0 is not a symbolic link\n",
            "\n",
            "Processing triggers for man-db (2.8.3-2ubuntu0.1) ...\n"
          ],
          "name": "stdout"
        }
      ]
    },
    {
      "cell_type": "code",
      "metadata": {
        "colab": {
          "base_uri": "https://localhost:8080/"
        },
        "id": "bHeuJK-z2aFV",
        "outputId": "b0693b9f-62e4-481d-82c9-ce3d451cff9b"
      },
      "source": [
        "!wget -O 1FIQ.pdb https://files.rcsb.org/download/1fiq.pdb\r\n",
        "com_file = open('fetch_and_clean.pml','w')\r\n",
        "com_file.write('''\r\n",
        "load 1fiq.pdb\r\n",
        "remove resn HOH\r\n",
        "h_add elem O or elem N\r\n",
        "select 1FIQ-FSN, resn FSN #Create a selection called 1FIQ-FSN from the ligand\r\n",
        "select 1FIQ-receptor, 1FIQ and not 1FIQ-FSN #Select all that is not the ligand\r\n",
        "save 1FIQ-FSN.pdb, 1FIQ-FSN\r\n",
        "save 1FIQ-receptor.pdb, 1FIQ-receptor    \r\n",
        "''')\r\n",
        "com_file.close()"
      ],
      "execution_count": null,
      "outputs": [
        {
          "output_type": "stream",
          "text": [
            "--2021-01-17 06:33:01--  https://files.rcsb.org/download/1fiq.pdb\n",
            "Resolving files.rcsb.org (files.rcsb.org)... 132.249.210.234\n",
            "Connecting to files.rcsb.org (files.rcsb.org)|132.249.210.234|:443... connected.\n",
            "HTTP request sent, awaiting response... 200 OK\n",
            "Length: unspecified [application/octet-stream]\n",
            "Saving to: ‘1FIQ.pdb’\n",
            "\n",
            "1FIQ.pdb                [  <=>               ] 880.00K  2.83MB/s    in 0.3s    \n",
            "\n",
            "2021-01-17 06:33:02 (2.83 MB/s) - ‘1FIQ.pdb’ saved [901125]\n",
            "\n"
          ],
          "name": "stdout"
        }
      ]
    },
    {
      "cell_type": "code",
      "metadata": {
        "id": "VM_Af8Mf2aIL"
      },
      "source": [
        ""
      ],
      "execution_count": null,
      "outputs": []
    },
    {
      "cell_type": "code",
      "metadata": {
        "id": "4IpOTrYG2aKm"
      },
      "source": [
        ""
      ],
      "execution_count": null,
      "outputs": []
    },
    {
      "cell_type": "code",
      "metadata": {
        "id": "nvVzygnV2aNs"
      },
      "source": [
        ""
      ],
      "execution_count": null,
      "outputs": []
    },
    {
      "cell_type": "code",
      "metadata": {
        "id": "E0wxlP4B2aRN"
      },
      "source": [
        ""
      ],
      "execution_count": null,
      "outputs": []
    },
    {
      "cell_type": "code",
      "metadata": {
        "id": "vLtZghdZvPc9"
      },
      "source": [
        ""
      ],
      "execution_count": null,
      "outputs": []
    }
  ]
}