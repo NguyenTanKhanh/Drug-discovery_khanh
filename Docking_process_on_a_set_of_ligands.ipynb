{
  "nbformat": 4,
  "nbformat_minor": 0,
  "metadata": {
    "colab": {
      "name": "Docking process on a set of ligands",
      "provenance": [],
      "collapsed_sections": [],
      "toc_visible": true,
      "include_colab_link": true
    },
    "kernelspec": {
      "name": "python3",
      "display_name": "Python 3"
    }
  },
  "cells": [
    {
      "cell_type": "markdown",
      "metadata": {
        "id": "view-in-github",
        "colab_type": "text"
      },
      "source": [
        "<a href=\"https://colab.research.google.com/github/NguyenTanKhanh/Drug-discovery_khanh/blob/main/Docking_process_on_a_set_of_ligands.ipynb\" target=\"_parent\"><img src=\"https://colab.research.google.com/assets/colab-badge.svg\" alt=\"Open In Colab\"/></a>"
      ]
    },
    {
      "cell_type": "code",
      "metadata": {
        "id": "c1z1G7hZETX1"
      },
      "source": [
        "ls -la"
      ],
      "execution_count": null,
      "outputs": []
    },
    {
      "cell_type": "markdown",
      "metadata": {
        "id": "m_FPySGwpyje"
      },
      "source": [
        "##**1. Create a directory named \"Docking\".** \r\n",
        "\r\n",
        "*  This is work space\r\n",
        "\r\n"
      ]
    },
    {
      "cell_type": "code",
      "metadata": {
        "id": "KtJx44MpEtEa"
      },
      "source": [
        "mkdir Docking; cd Docking"
      ],
      "execution_count": 1,
      "outputs": []
    },
    {
      "cell_type": "markdown",
      "metadata": {
        "id": "JNJZRrp1qM4P"
      },
      "source": [
        "##**2. Prepare for ligands**"
      ]
    },
    {
      "cell_type": "markdown",
      "metadata": {
        "id": "hWgmzDo4qbcl"
      },
      "source": [
        "Download a set of ligands from github"
      ]
    },
    {
      "cell_type": "code",
      "metadata": {
        "colab": {
          "base_uri": "https://localhost:8080/"
        },
        "id": "qQFYnyVUExMv",
        "outputId": "f1226bab-0a15-4a0d-aad6-12e0a7e9a4e9"
      },
      "source": [
        "!wget \"https://github.com/NguyenTanKhanh/Drug-discovery_khanh/blob/main/docking/ligands.zip?raw=true\" -O ligands.zip"
      ],
      "execution_count": 2,
      "outputs": [
        {
          "output_type": "stream",
          "text": [
            "--2021-01-28 01:46:54--  https://github.com/NguyenTanKhanh/Drug-discovery_khanh/blob/main/docking/ligands.zip?raw=true\n",
            "Resolving github.com (github.com)... 140.82.112.3\n",
            "Connecting to github.com (github.com)|140.82.112.3|:443... connected.\n",
            "HTTP request sent, awaiting response... 302 Found\n",
            "Location: https://github.com/NguyenTanKhanh/Drug-discovery_khanh/raw/main/docking/ligands.zip [following]\n",
            "--2021-01-28 01:46:55--  https://github.com/NguyenTanKhanh/Drug-discovery_khanh/raw/main/docking/ligands.zip\n",
            "Reusing existing connection to github.com:443.\n",
            "HTTP request sent, awaiting response... 302 Found\n",
            "Location: https://raw.githubusercontent.com/NguyenTanKhanh/Drug-discovery_khanh/main/docking/ligands.zip [following]\n",
            "--2021-01-28 01:46:55--  https://raw.githubusercontent.com/NguyenTanKhanh/Drug-discovery_khanh/main/docking/ligands.zip\n",
            "Resolving raw.githubusercontent.com (raw.githubusercontent.com)... 151.101.0.133, 151.101.64.133, 151.101.128.133, ...\n",
            "Connecting to raw.githubusercontent.com (raw.githubusercontent.com)|151.101.0.133|:443... connected.\n",
            "HTTP request sent, awaiting response... 200 OK\n",
            "Length: 1848 (1.8K) [application/zip]\n",
            "Saving to: ‘ligands.zip’\n",
            "\n",
            "ligands.zip         100%[===================>]   1.80K  --.-KB/s    in 0s      \n",
            "\n",
            "2021-01-28 01:46:55 (44.5 MB/s) - ‘ligands.zip’ saved [1848/1848]\n",
            "\n"
          ],
          "name": "stdout"
        }
      ]
    },
    {
      "cell_type": "markdown",
      "metadata": {
        "id": "cfabxBIGrJ-d"
      },
      "source": [
        "Unzip"
      ]
    },
    {
      "cell_type": "code",
      "metadata": {
        "colab": {
          "base_uri": "https://localhost:8080/"
        },
        "id": "7Z5JmbajE2JA",
        "outputId": "e13bfc9d-e38a-475b-a37e-52881e2bc329"
      },
      "source": [
        "ls -lah; unzip ligands.zip"
      ],
      "execution_count": 3,
      "outputs": [
        {
          "output_type": "stream",
          "text": [
            "total 24K\n",
            "drwxr-xr-x 1 root root 4.0K Jan 28 01:46 \u001b[0m\u001b[01;34m.\u001b[0m/\n",
            "drwxr-xr-x 1 root root 4.0K Jan 28 01:42 \u001b[01;34m..\u001b[0m/\n",
            "drwxr-xr-x 1 root root 4.0K Jan 26 17:12 \u001b[01;34m.config\u001b[0m/\n",
            "drwxr-xr-x 2 root root 4.0K Jan 28 01:43 \u001b[01;34mDocking\u001b[0m/\n",
            "-rw-r--r-- 1 root root 1.9K Jan 28 01:46 ligands.zip\n",
            "drwxr-xr-x 1 root root 4.0K Jan 20 17:27 \u001b[01;34msample_data\u001b[0m/\n",
            "Archive:  ligands.zip\n",
            "   creating: ligands/\n",
            "  inflating: ligands/5.pdbqt         \n",
            "  inflating: ligands/6.pdbqt         \n",
            "  inflating: ligands/7.pdbqt         \n"
          ],
          "name": "stdout"
        }
      ]
    },
    {
      "cell_type": "markdown",
      "metadata": {
        "id": "AkaNLAL_rNv5"
      },
      "source": [
        "remove .zip file"
      ]
    },
    {
      "cell_type": "code",
      "metadata": {
        "colab": {
          "base_uri": "https://localhost:8080/"
        },
        "id": "Y3R4-vu4E-8g",
        "outputId": "60e6efc8-9bca-48f9-c2a4-f6670f03ce6a"
      },
      "source": [
        "rm ligands.zip; ls -lah"
      ],
      "execution_count": 4,
      "outputs": [
        {
          "output_type": "stream",
          "text": [
            "total 24K\n",
            "drwxr-xr-x 1 root root 4.0K Jan 28 01:48 .\n",
            "drwxr-xr-x 1 root root 4.0K Jan 28 01:42 ..\n",
            "drwxr-xr-x 1 root root 4.0K Jan 26 17:12 .config\n",
            "drwxr-xr-x 2 root root 4.0K Jan 28 01:43 Docking\n",
            "drwxr-xr-x 2 root root 4.0K Jan 24 11:09 ligands\n",
            "drwxr-xr-x 1 root root 4.0K Jan 20 17:27 sample_data\n"
          ],
          "name": "stdout"
        }
      ]
    },
    {
      "cell_type": "markdown",
      "metadata": {
        "id": "0xwjxtqkrSQt"
      },
      "source": [
        "##**3. Prepare for target**"
      ]
    },
    {
      "cell_type": "markdown",
      "metadata": {
        "id": "MMtt0x6IrX2p"
      },
      "source": [
        "Download protein from github and rename"
      ]
    },
    {
      "cell_type": "code",
      "metadata": {
        "colab": {
          "base_uri": "https://localhost:8080/"
        },
        "id": "R10shCIJFBNc",
        "outputId": "1f9faa6b-4182-4ef8-8fb8-982329279a25"
      },
      "source": [
        "!wget \"https://github.com/NguyenTanKhanh/Drug-discovery_khanh/raw/main/docking/bovineXOR.pdbqt\" -O bovineXOR.pdbqt"
      ],
      "execution_count": 5,
      "outputs": [
        {
          "output_type": "stream",
          "text": [
            "--2021-01-28 01:48:41--  https://github.com/NguyenTanKhanh/Drug-discovery_khanh/raw/main/docking/bovineXOR.pdbqt\n",
            "Resolving github.com (github.com)... 140.82.114.3\n",
            "Connecting to github.com (github.com)|140.82.114.3|:443... connected.\n",
            "HTTP request sent, awaiting response... 302 Found\n",
            "Location: https://raw.githubusercontent.com/NguyenTanKhanh/Drug-discovery_khanh/main/docking/bovineXOR.pdbqt [following]\n",
            "--2021-01-28 01:48:42--  https://raw.githubusercontent.com/NguyenTanKhanh/Drug-discovery_khanh/main/docking/bovineXOR.pdbqt\n",
            "Resolving raw.githubusercontent.com (raw.githubusercontent.com)... 151.101.0.133, 151.101.64.133, 151.101.128.133, ...\n",
            "Connecting to raw.githubusercontent.com (raw.githubusercontent.com)|151.101.0.133|:443... connected.\n",
            "HTTP request sent, awaiting response... 200 OK\n",
            "Length: 941109 (919K) [text/plain]\n",
            "Saving to: ‘bovineXOR.pdbqt’\n",
            "\n",
            "bovineXOR.pdbqt     100%[===================>] 919.05K  --.-KB/s    in 0.03s   \n",
            "\n",
            "2021-01-28 01:48:42 (27.4 MB/s) - ‘bovineXOR.pdbqt’ saved [941109/941109]\n",
            "\n"
          ],
          "name": "stdout"
        }
      ]
    },
    {
      "cell_type": "code",
      "metadata": {
        "colab": {
          "base_uri": "https://localhost:8080/"
        },
        "id": "JnegKncXFPvE",
        "outputId": "3ebfc7de-6262-4380-811b-d899e9936bf9"
      },
      "source": [
        "ls -lah *"
      ],
      "execution_count": 6,
      "outputs": [
        {
          "output_type": "stream",
          "text": [
            "-rw-r--r-- 1 root root 920K Jan 28 01:48 bovineXOR.pdbqt\n",
            "\n",
            "Docking:\n",
            "total 8.0K\n",
            "drwxr-xr-x 2 root root 4.0K Jan 28 01:43 \u001b[0m\u001b[01;34m.\u001b[0m/\n",
            "drwxr-xr-x 1 root root 4.0K Jan 28 01:48 \u001b[01;34m..\u001b[0m/\n",
            "\n",
            "ligands:\n",
            "total 20K\n",
            "drwxr-xr-x 2 root root 4.0K Jan 24 11:09 \u001b[01;34m.\u001b[0m/\n",
            "drwxr-xr-x 1 root root 4.0K Jan 28 01:48 \u001b[01;34m..\u001b[0m/\n",
            "-rw-r--r-- 1 root root 1.3K Sep  8 19:50 5.pdbqt\n",
            "-rw-r--r-- 1 root root 1.5K Sep  8 19:52 6.pdbqt\n",
            "-rw-r--r-- 1 root root 1.7K Sep  8 19:52 7.pdbqt\n",
            "\n",
            "sample_data:\n",
            "total 55M\n",
            "drwxr-xr-x 1 root root 4.0K Jan 20 17:27 \u001b[01;34m.\u001b[0m/\n",
            "drwxr-xr-x 1 root root 4.0K Jan 28 01:48 \u001b[01;34m..\u001b[0m/\n",
            "-rwxr-xr-x 1 root root 1.7K Jan  1  2000 \u001b[01;32manscombe.json\u001b[0m*\n",
            "-rw-r--r-- 1 root root 295K Jan 20 17:27 california_housing_test.csv\n",
            "-rw-r--r-- 1 root root 1.7M Jan 20 17:27 california_housing_train.csv\n",
            "-rw-r--r-- 1 root root  18M Jan 20 17:27 mnist_test.csv\n",
            "-rw-r--r-- 1 root root  35M Jan 20 17:27 mnist_train_small.csv\n",
            "-rwxr-xr-x 1 root root  930 Jan  1  2000 \u001b[01;32mREADME.md\u001b[0m*\n"
          ],
          "name": "stdout"
        }
      ]
    },
    {
      "cell_type": "markdown",
      "metadata": {
        "id": "9r3V51tYrl3N"
      },
      "source": [
        "##**4.Download autodock vina**"
      ]
    },
    {
      "cell_type": "markdown",
      "metadata": {
        "id": "FrWvoT0mrs8L"
      },
      "source": [
        "Download vina file and rename \"qvina\""
      ]
    },
    {
      "cell_type": "code",
      "metadata": {
        "colab": {
          "base_uri": "https://localhost:8080/"
        },
        "id": "I8Jsar2VFRiI",
        "outputId": "160e52ad-c765-456c-8fcf-6ce6a5d7e0c4"
      },
      "source": [
        "!wget \"https://github.com/QVina/qvina/blob/master/bin/qvina2.1?raw=true\" -O qvina"
      ],
      "execution_count": 10,
      "outputs": [
        {
          "output_type": "stream",
          "text": [
            "--2021-01-28 01:51:54--  https://github.com/QVina/qvina/blob/master/bin/qvina2.1?raw=true\n",
            "Resolving github.com (github.com)... 140.82.112.4\n",
            "Connecting to github.com (github.com)|140.82.112.4|:443... connected.\n",
            "HTTP request sent, awaiting response... 302 Found\n",
            "Location: https://github.com/QVina/qvina/raw/master/bin/qvina2.1 [following]\n",
            "--2021-01-28 01:51:54--  https://github.com/QVina/qvina/raw/master/bin/qvina2.1\n",
            "Reusing existing connection to github.com:443.\n",
            "HTTP request sent, awaiting response... 302 Found\n",
            "Location: https://raw.githubusercontent.com/QVina/qvina/master/bin/qvina2.1 [following]\n",
            "--2021-01-28 01:51:55--  https://raw.githubusercontent.com/QVina/qvina/master/bin/qvina2.1\n",
            "Resolving raw.githubusercontent.com (raw.githubusercontent.com)... 151.101.0.133, 151.101.64.133, 151.101.128.133, ...\n",
            "Connecting to raw.githubusercontent.com (raw.githubusercontent.com)|151.101.0.133|:443... connected.\n",
            "HTTP request sent, awaiting response... 200 OK\n",
            "Length: 4277120 (4.1M) [application/octet-stream]\n",
            "Saving to: ‘qvina’\n",
            "\n",
            "qvina               100%[===================>]   4.08M  --.-KB/s    in 0.1s    \n",
            "\n",
            "2021-01-28 01:51:56 (33.3 MB/s) - ‘qvina’ saved [4277120/4277120]\n",
            "\n"
          ],
          "name": "stdout"
        }
      ]
    },
    {
      "cell_type": "code",
      "metadata": {
        "colab": {
          "base_uri": "https://localhost:8080/"
        },
        "id": "ZLzIZCAtHBhb",
        "outputId": "71fc9714-de01-4205-8163-8e43cead729f"
      },
      "source": [
        "ls -lah *"
      ],
      "execution_count": 11,
      "outputs": [
        {
          "output_type": "stream",
          "text": [
            "-rw-r--r-- 1 root root 920K Jan 28 01:48 bovineXOR.pdbqt\n",
            "-rw-r--r-- 1 root root 4.1M Jan 28 01:51 qvina\n",
            "\n",
            "Docking:\n",
            "total 8.0K\n",
            "drwxr-xr-x 2 root root 4.0K Jan 28 01:43 \u001b[0m\u001b[01;34m.\u001b[0m/\n",
            "drwxr-xr-x 1 root root 4.0K Jan 28 01:51 \u001b[01;34m..\u001b[0m/\n",
            "\n",
            "ligands:\n",
            "total 20K\n",
            "drwxr-xr-x 2 root root 4.0K Jan 24 11:09 \u001b[01;34m.\u001b[0m/\n",
            "drwxr-xr-x 1 root root 4.0K Jan 28 01:51 \u001b[01;34m..\u001b[0m/\n",
            "-rw-r--r-- 1 root root 1.3K Sep  8 19:50 5.pdbqt\n",
            "-rw-r--r-- 1 root root 1.5K Sep  8 19:52 6.pdbqt\n",
            "-rw-r--r-- 1 root root 1.7K Sep  8 19:52 7.pdbqt\n",
            "\n",
            "sample_data:\n",
            "total 55M\n",
            "drwxr-xr-x 1 root root 4.0K Jan 20 17:27 \u001b[01;34m.\u001b[0m/\n",
            "drwxr-xr-x 1 root root 4.0K Jan 28 01:51 \u001b[01;34m..\u001b[0m/\n",
            "-rwxr-xr-x 1 root root 1.7K Jan  1  2000 \u001b[01;32manscombe.json\u001b[0m*\n",
            "-rw-r--r-- 1 root root 295K Jan 20 17:27 california_housing_test.csv\n",
            "-rw-r--r-- 1 root root 1.7M Jan 20 17:27 california_housing_train.csv\n",
            "-rw-r--r-- 1 root root  18M Jan 20 17:27 mnist_test.csv\n",
            "-rw-r--r-- 1 root root  35M Jan 20 17:27 mnist_train_small.csv\n",
            "-rwxr-xr-x 1 root root  930 Jan  1  2000 \u001b[01;32mREADME.md\u001b[0m*\n"
          ],
          "name": "stdout"
        }
      ]
    },
    {
      "cell_type": "code",
      "metadata": {
        "id": "cSKIcRJzHFbM"
      },
      "source": [
        "!chmod +x qvina"
      ],
      "execution_count": 12,
      "outputs": []
    },
    {
      "cell_type": "code",
      "metadata": {
        "colab": {
          "base_uri": "https://localhost:8080/"
        },
        "id": "H6nahF3vHJME",
        "outputId": "92eadfb2-ec6c-41af-cac6-2e5259bb12d4"
      },
      "source": [
        "!./qvina --help"
      ],
      "execution_count": 14,
      "outputs": [
        {
          "output_type": "stream",
          "text": [
            "\n",
            "Input:\n",
            "  --receptor arg             rigid part of the receptor (PDBQT)\n",
            "  --flex arg                 flexible side chains, if any (PDBQT)\n",
            "  --ligand arg               ligand (PDBQT)\n",
            "\n",
            "Search space (required):\n",
            "  --center_x arg             X coordinate of the center\n",
            "  --center_y arg             Y coordinate of the center\n",
            "  --center_z arg             Z coordinate of the center\n",
            "  --size_x arg               size in the X dimension (Angstroms)\n",
            "  --size_y arg               size in the Y dimension (Angstroms)\n",
            "  --size_z arg               size in the Z dimension (Angstroms)\n",
            "\n",
            "Output (optional):\n",
            "  --out arg                  output models (PDBQT), the default is chosen based\n",
            "                             on the ligand file name\n",
            "  --log arg                  optionally, write log file\n",
            "\n",
            "Misc (optional):\n",
            "  --cpu arg                  the number of CPUs to use (the default is to try \n",
            "                             to detect the number of CPUs or, failing that, use\n",
            "                             1)\n",
            "  --seed arg                 explicit random seed\n",
            "  --exhaustiveness arg (=8)  exhaustiveness of the global search (roughly \n",
            "                             proportional to time): 1+\n",
            "  --num_modes arg (=9)       maximum number of binding modes to generate\n",
            "  --energy_range arg (=3)    maximum energy difference between the best binding\n",
            "                             mode and the worst one displayed (kcal/mol)\n",
            "\n",
            "Configuration file (optional):\n",
            "  --config arg               the above options can be put here\n",
            "\n",
            "Information (optional):\n",
            "  --help                     display usage summary\n",
            "  --help_advanced            display usage summary with advanced options\n",
            "  --version                  display program version\n",
            "\n"
          ],
          "name": "stdout"
        }
      ]
    },
    {
      "cell_type": "markdown",
      "metadata": {
        "id": "k-om7O_itPS2"
      },
      "source": [
        "##**5. Create parameter for docking process (box)** "
      ]
    },
    {
      "cell_type": "code",
      "metadata": {
        "id": "Jrmg43ySHOP9"
      },
      "source": [
        "!echo receptor = bovineXOR.pdbqt > config.txt\r\n",
        "!echo center_x = 40 >> config.txt\r\n",
        "!echo center_y = 22 >> config.txt\r\n",
        "!echo center_z = 16 >> config.txt\r\n",
        "!echo  >> config.txt\r\n",
        "!echo size_x = 30 >> config.txt\r\n",
        "!echo size_y = 30 >> config.txt\r\n",
        "!echo size_z = 30 >> config.txt\r\n",
        "!echo  >> config.txt\r\n",
        "!echo exhaustiveness = 8 >> config.txt"
      ],
      "execution_count": 15,
      "outputs": []
    },
    {
      "cell_type": "code",
      "metadata": {
        "colab": {
          "base_uri": "https://localhost:8080/"
        },
        "id": "aow0Vv57HzDF",
        "outputId": "bee9711e-aef4-4d51-e854-84639f50d542"
      },
      "source": [
        "!cat config.txt"
      ],
      "execution_count": 16,
      "outputs": [
        {
          "output_type": "stream",
          "text": [
            "receptor = bovineXOR.pdbqt\n",
            "center_x = 40\n",
            "center_y = 22\n",
            "center_z = 16\n",
            "\n",
            "size_x = 30\n",
            "size_y = 30\n",
            "size_z = 30\n",
            "\n",
            "exhaustiveness = 8\n"
          ],
          "name": "stdout"
        }
      ]
    },
    {
      "cell_type": "markdown",
      "metadata": {
        "id": "5eKlrTNstgLh"
      },
      "source": [
        "##**6. Create output directory**"
      ]
    },
    {
      "cell_type": "code",
      "metadata": {
        "id": "8BoJoY6uI073"
      },
      "source": [
        "mkdir output"
      ],
      "execution_count": 17,
      "outputs": []
    },
    {
      "cell_type": "markdown",
      "metadata": {
        "id": "32Ka6nYNtoSd"
      },
      "source": [
        "##**7. Run docking process**"
      ]
    },
    {
      "cell_type": "code",
      "metadata": {
        "id": "spFCLn00Jhqr"
      },
      "source": [
        "!for ligand in $(ls -1 ./ligands/); do ./qvina --ligand ./ligands/$ligand --out ./output/output_$ligand --config config.txt >> docking_result_output.txt; done"
      ],
      "execution_count": 18,
      "outputs": []
    },
    {
      "cell_type": "markdown",
      "metadata": {
        "id": "5Xl53Ho5uIDP"
      },
      "source": [
        "##**8. Show results**"
      ]
    },
    {
      "cell_type": "code",
      "metadata": {
        "colab": {
          "base_uri": "https://localhost:8080/"
        },
        "id": "jooZWAziJiSu",
        "outputId": "9b5d6e05-3367-4ab7-a272-65892fcea3bf"
      },
      "source": [
        "ls -la output"
      ],
      "execution_count": 19,
      "outputs": [
        {
          "output_type": "stream",
          "text": [
            "total 52\n",
            "drwxr-xr-x 2 root root  4096 Jan 28 02:00 \u001b[0m\u001b[01;34m.\u001b[0m/\n",
            "drwxr-xr-x 1 root root  4096 Jan 28 01:59 \u001b[01;34m..\u001b[0m/\n",
            "-rw-r--r-- 1 root root 11943 Jan 28 01:59 output_5.pdbqt\n",
            "-rw-r--r-- 1 root root 13824 Jan 28 01:59 output_6.pdbqt\n",
            "-rw-r--r-- 1 root root 15849 Jan 28 02:00 output_7.pdbqt\n"
          ],
          "name": "stdout"
        }
      ]
    },
    {
      "cell_type": "code",
      "metadata": {
        "colab": {
          "base_uri": "https://localhost:8080/"
        },
        "id": "xrO76sNIJwme",
        "outputId": "2a9221e0-f0dd-4378-c60f-b42d182d8a92"
      },
      "source": [
        "!cat docking_result_output.txt"
      ],
      "execution_count": 20,
      "outputs": [
        {
          "output_type": "stream",
          "text": [
            "############################################################################\n",
            "# If you used Quick Vina 2 in your work, please cite:                      #\n",
            "#                                                                          #\n",
            "# Amr Alhossary, Stephanus Daniel Handoko, Yuguang Mu, and Chee-Keong Kwoh,#\n",
            "# Fast, Accurate, and Reliable Molecular Docking with QuickVina 2,         #\n",
            "# Bioinformatics (2015), doi: 10.1093/bioinformatics/btv082                #\n",
            "#                                                                          #\n",
            "# You are also encouraged to cite Quick Vina 1:                            #\n",
            "# Stephanus Daniel Handoko, Xuchang Ouyang, Chinh Tran To Su, Chee Keong   #\n",
            "# Kwoh, Yew Soon Ong,                                                      #\n",
            "# QuickVina: Accelerating AutoDock Vina Using Gradient-Based Heuristics for#\n",
            "# Global Optimization,                                                     #\n",
            "# IEEE/ACM Transactions on Computational Biology and Bioinformatics,vol.9, #\n",
            "# no. 5, pp. 1266-1272, Sept.-Oct. 2012, doi: 10.1109/TCBB.2012.82         #\n",
            "#                                                                          #\n",
            "# and original AutoDock Vina paper:                                        #\n",
            "# O. Trott, A. J. Olson,                                                   #\n",
            "# AutoDock Vina: improving the speed and accuracy of docking with a        #\n",
            "# new scoring function, efficient optimization and multithreading,         #\n",
            "# Journal of Computational Chemistry 31 (2010) 455-461                     #\n",
            "# doi: 10.1002/jcc.21334                                                   #\n",
            "############################################################################\n",
            "\n",
            "Detected 2 CPUs\n",
            "Reading input ... done.\n",
            "Setting up the scoring function ... done.\n",
            "Analyzing the binding site ... done.\n",
            "Using random seed: 303729408\n",
            "Performing search ... \n",
            "0%   10   20   30   40   50   60   70   80   90   100%\n",
            "|----|----|----|----|----|----|----|----|----|----|\n",
            "***************************************************\n",
            "done.\n",
            "Refining results ... \n",
            "searching finished in 4.539 seconds\n",
            "done.\n",
            "\n",
            "mode |   affinity | dist from best mode\n",
            "     | (kcal/mol) | rmsd l.b.| rmsd u.b.\n",
            "-----+------------+----------+----------\n",
            "   1         -5.8      0.000      0.000\n",
            "   2         -5.6      3.787      5.460\n",
            "   3         -5.6     14.634     16.642\n",
            "   4         -5.5      2.185      3.882\n",
            "   5         -5.3     13.304     15.873\n",
            "   6         -5.3      1.067      2.080\n",
            "   7         -5.3      2.247      4.177\n",
            "   8         -5.2      1.618      2.635\n",
            "   9         -5.1     14.895     17.071\n",
            "Writing output ... done.\n",
            "############################################################################\n",
            "# If you used Quick Vina 2 in your work, please cite:                      #\n",
            "#                                                                          #\n",
            "# Amr Alhossary, Stephanus Daniel Handoko, Yuguang Mu, and Chee-Keong Kwoh,#\n",
            "# Fast, Accurate, and Reliable Molecular Docking with QuickVina 2,         #\n",
            "# Bioinformatics (2015), doi: 10.1093/bioinformatics/btv082                #\n",
            "#                                                                          #\n",
            "# You are also encouraged to cite Quick Vina 1:                            #\n",
            "# Stephanus Daniel Handoko, Xuchang Ouyang, Chinh Tran To Su, Chee Keong   #\n",
            "# Kwoh, Yew Soon Ong,                                                      #\n",
            "# QuickVina: Accelerating AutoDock Vina Using Gradient-Based Heuristics for#\n",
            "# Global Optimization,                                                     #\n",
            "# IEEE/ACM Transactions on Computational Biology and Bioinformatics,vol.9, #\n",
            "# no. 5, pp. 1266-1272, Sept.-Oct. 2012, doi: 10.1109/TCBB.2012.82         #\n",
            "#                                                                          #\n",
            "# and original AutoDock Vina paper:                                        #\n",
            "# O. Trott, A. J. Olson,                                                   #\n",
            "# AutoDock Vina: improving the speed and accuracy of docking with a        #\n",
            "# new scoring function, efficient optimization and multithreading,         #\n",
            "# Journal of Computational Chemistry 31 (2010) 455-461                     #\n",
            "# doi: 10.1002/jcc.21334                                                   #\n",
            "############################################################################\n",
            "\n",
            "Detected 2 CPUs\n",
            "Reading input ... done.\n",
            "Setting up the scoring function ... done.\n",
            "Analyzing the binding site ... done.\n",
            "Using random seed: -227207984\n",
            "Performing search ... \n",
            "0%   10   20   30   40   50   60   70   80   90   100%\n",
            "|----|----|----|----|----|----|----|----|----|----|\n",
            "***************************************************\n",
            "done.\n",
            "Refining results ... \n",
            "searching finished in 6.796 seconds\n",
            "done.\n",
            "\n",
            "mode |   affinity | dist from best mode\n",
            "     | (kcal/mol) | rmsd l.b.| rmsd u.b.\n",
            "-----+------------+----------+----------\n",
            "   1         -6.2      0.000      0.000\n",
            "   2         -5.8      0.808      5.514\n",
            "   3         -5.7      0.966      1.967\n",
            "   4         -5.3      8.301     10.104\n",
            "   5         -5.3      5.907      8.640\n",
            "   6         -5.3      1.439      5.835\n",
            "   7         -5.3      1.820      5.625\n",
            "   8         -5.2      8.542     10.035\n",
            "   9         -5.2      5.990      8.515\n",
            "Writing output ... done.\n",
            "############################################################################\n",
            "# If you used Quick Vina 2 in your work, please cite:                      #\n",
            "#                                                                          #\n",
            "# Amr Alhossary, Stephanus Daniel Handoko, Yuguang Mu, and Chee-Keong Kwoh,#\n",
            "# Fast, Accurate, and Reliable Molecular Docking with QuickVina 2,         #\n",
            "# Bioinformatics (2015), doi: 10.1093/bioinformatics/btv082                #\n",
            "#                                                                          #\n",
            "# You are also encouraged to cite Quick Vina 1:                            #\n",
            "# Stephanus Daniel Handoko, Xuchang Ouyang, Chinh Tran To Su, Chee Keong   #\n",
            "# Kwoh, Yew Soon Ong,                                                      #\n",
            "# QuickVina: Accelerating AutoDock Vina Using Gradient-Based Heuristics for#\n",
            "# Global Optimization,                                                     #\n",
            "# IEEE/ACM Transactions on Computational Biology and Bioinformatics,vol.9, #\n",
            "# no. 5, pp. 1266-1272, Sept.-Oct. 2012, doi: 10.1109/TCBB.2012.82         #\n",
            "#                                                                          #\n",
            "# and original AutoDock Vina paper:                                        #\n",
            "# O. Trott, A. J. Olson,                                                   #\n",
            "# AutoDock Vina: improving the speed and accuracy of docking with a        #\n",
            "# new scoring function, efficient optimization and multithreading,         #\n",
            "# Journal of Computational Chemistry 31 (2010) 455-461                     #\n",
            "# doi: 10.1002/jcc.21334                                                   #\n",
            "############################################################################\n",
            "\n",
            "Detected 2 CPUs\n",
            "Reading input ... done.\n",
            "Setting up the scoring function ... done.\n",
            "Analyzing the binding site ... done.\n",
            "Using random seed: -758144528\n",
            "Performing search ... \n",
            "0%   10   20   30   40   50   60   70   80   90   100%\n",
            "|----|----|----|----|----|----|----|----|----|----|\n",
            "***************************************************\n",
            "done.\n",
            "Refining results ... \n",
            "searching finished in 10.418 seconds\n",
            "done.\n",
            "\n",
            "mode |   affinity | dist from best mode\n",
            "     | (kcal/mol) | rmsd l.b.| rmsd u.b.\n",
            "-----+------------+----------+----------\n",
            "   1         -5.3      0.000      0.000\n",
            "   2         -4.9      6.046      7.926\n",
            "   3         -4.8      4.010      6.066\n",
            "   4         -4.8      3.932      6.545\n",
            "   5         -4.7      3.780      6.951\n",
            "   6         -4.6      6.637      9.523\n",
            "   7         -4.4      5.375      7.950\n",
            "   8         -4.4     10.393     12.469\n",
            "   9         -4.4      5.011      7.014\n",
            "Writing output ... done.\n"
          ],
          "name": "stdout"
        }
      ]
    }
  ]
}