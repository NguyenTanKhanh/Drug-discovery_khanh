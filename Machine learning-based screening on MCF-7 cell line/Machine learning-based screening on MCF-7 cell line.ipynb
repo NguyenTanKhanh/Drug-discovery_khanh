{
 "cells": [
  {
   "cell_type": "code",
   "execution_count": null,
   "id": "0c9a8ad8",
   "metadata": {},
   "outputs": [],
   "source": [
    "import pandas as pd"
   ]
  },
  {
   "cell_type": "code",
   "execution_count": null,
   "id": "fa61f223",
   "metadata": {},
   "outputs": [],
   "source": [
    "dir1 = \"link to dataset\"\n",
    "\n",
    "df1 = pd.read_csv(dir1)"
   ]
  },
  {
   "cell_type": "code",
   "execution_count": null,
   "id": "28456165",
   "metadata": {},
   "outputs": [],
   "source": [
    "import lazypredict\n",
    "from lazypredict.Supervised import LazyClassifier\n",
    "# from sklearn.datasets import load_breast_cancer\n",
    "from sklearn.model_selection import train_test_split\n",
    "import numpy as np\n",
    "\n",
    "df_values = df1.values\n",
    "# Load dataset\n",
    "X = df_values[8:,2:]\n",
    "y = df_values[8:,1]"
   ]
  },
  {
   "cell_type": "code",
   "execution_count": null,
   "id": "2d014b4c",
   "metadata": {},
   "outputs": [],
   "source": [
    "X_train, X_test, y_train, y_test = train_test_split(X, y,test_size=0.2,random_state =42)"
   ]
  },
  {
   "cell_type": "code",
   "execution_count": null,
   "id": "9ea8d0af",
   "metadata": {},
   "outputs": [],
   "source": [
    "# Defines and builds the lazyclassifier\n",
    "clf = LazyClassifier(verbose=0,ignore_warnings=True, custom_metric=None)"
   ]
  },
  {
   "cell_type": "code",
   "execution_count": null,
   "id": "f5604220",
   "metadata": {},
   "outputs": [],
   "source": [
    "models_test,predictions_test = clf.fit(X_train, X_test, y_train, y_test)"
   ]
  },
  {
   "cell_type": "code",
   "execution_count": null,
   "id": "5d7e2cde",
   "metadata": {},
   "outputs": [],
   "source": [
    "models_test"
   ]
  },
  {
   "cell_type": "code",
   "execution_count": null,
   "id": "9022b290",
   "metadata": {},
   "outputs": [],
   "source": []
  },
  {
   "cell_type": "code",
   "execution_count": null,
   "id": "90cef6d5",
   "metadata": {},
   "outputs": [],
   "source": [
    "#Build model applied RandomForestClassifier \n",
    "from sklearn.ensemble import RandomForestClassifier\n",
    "from sklearn.datasets import make_classification\n",
    "X, y = make_classification(n_samples=1000, n_features=4,\n",
    "                           n_informative=2, n_redundant=0,\n",
    "                            random_state=0, shuffle=False)\n",
    "clf = RandomForestClassifier(max_depth=2, random_state=0)"
   ]
  },
  {
   "cell_type": "code",
   "execution_count": null,
   "id": "6222fa43",
   "metadata": {},
   "outputs": [],
   "source": []
  },
  {
   "cell_type": "code",
   "execution_count": null,
   "id": "3669cb1a",
   "metadata": {},
   "outputs": [],
   "source": []
  },
  {
   "cell_type": "code",
   "execution_count": null,
   "id": "8ed2fdd6",
   "metadata": {},
   "outputs": [],
   "source": []
  },
  {
   "cell_type": "code",
   "execution_count": null,
   "id": "a24d3d75",
   "metadata": {},
   "outputs": [],
   "source": []
  },
  {
   "cell_type": "code",
   "execution_count": null,
   "id": "d4361e3b",
   "metadata": {},
   "outputs": [],
   "source": []
  },
  {
   "cell_type": "code",
   "execution_count": null,
   "id": "34aec583",
   "metadata": {},
   "outputs": [],
   "source": []
  }
 ],
 "metadata": {
  "kernelspec": {
   "display_name": "Python 3 (ipykernel)",
   "language": "python",
   "name": "python3"
  },
  "language_info": {
   "codemirror_mode": {
    "name": "ipython",
    "version": 3
   },
   "file_extension": ".py",
   "mimetype": "text/x-python",
   "name": "python",
   "nbconvert_exporter": "python",
   "pygments_lexer": "ipython3",
   "version": "3.7.4"
  }
 },
 "nbformat": 4,
 "nbformat_minor": 5
}
